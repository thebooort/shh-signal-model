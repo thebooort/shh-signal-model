{
 "cells": [
  {
   "cell_type": "markdown",
   "metadata": {},
   "source": [
    "# Calculo analítico para estados estacionarios "
   ]
  },
  {
   "cell_type": "code",
   "execution_count": 1,
   "metadata": {},
   "outputs": [],
   "source": [
    "%matplotlib inline\n",
    "import matplotlib.pyplot as plt\n",
    "from sympy import *\n",
    "from sympy import init_printing\n",
    "init_printing() "
   ]
  },
  {
   "cell_type": "code",
   "execution_count": 6,
   "metadata": {},
   "outputs": [],
   "source": [
    "init_printing()\n",
    "c = Symbol('c', real=True)  # positive constant, greater than 1 implies cooperativity, less than 1 anti-cooperativity\n",
    "a_Gli = Symbol('a_Gli', real=True)   # transcriptional activation intensity for Gli\n",
    "a_Gli3 = Symbol('a_Gli3', real=True)   # transcriptional activation intensity for Gli\n",
    "r_Gli3R = Symbol('r_Gli3R', real=True)   # transcriptional repression intensity for Gli\n",
    "k_Gli = Symbol('k_Gli', real=True)   # dissociation constant of activators for gene enhancers\n",
    "k_Gli3 = Symbol('k_Gli3', real=True)   # dissociation constant of activators for gene enhancers\n",
    "k_Gli3R = Symbol('k_Gli3R', real=True)   # dissociation constant of repressors for gene enhancers\n",
    "k_RNAP = Symbol('k_RNAP', real=True)   # RNA polymerase binding affinity\n",
    "RNAP = Symbol('RNAP', real=True)   # RNA polymerase concentration\n",
    "c_b = Symbol('c_b', real=True)   # BEWARE constant\n",
    "\n",
    "# from Lai-Schaffer classic model\n",
    "\n",
    "Shh = Symbol('Shh', real=True)   # Shh quantity [0,30]\n",
    "k_shh = Symbol('k_shh', real=True)   # dissociation constant shh-ptc bindings [0.58,2.0]\n",
    "k_ptc = Symbol('k_ptc', real=True)   # half maximal concentration of ptc which inhibits smo signlaing\n",
    "k_deg = Symbol('k_deg', real=True)   # degradation constant for all Gli related proteins\n",
    "k_g3rc = Symbol('k_g3rc', real=True)   # rate constant for the conversion to signal strengh\n",
    "r_g3b = Symbol('r_g3b', real=True)   # basal rate of Gli3 synthesis\n",
    "K_g3rc = Symbol('K_g3rc', real=True)   # sensitivity constant of the conversion to signal strengh\n",
    "k_deg_p = Symbol('k_deg_p', real=True)  # Degradation rate constant for Ptc [0.045,0.071]\n",
    " \n",
    "Gli = Symbol('Gli', real=True)\n",
    "Gli3 = Symbol('Gli3', real=True)\n",
    "Gli3R = Symbol('Gli3R', real=True)\n",
    "Ptc = Symbol('Ptc', real=True)\n",
    "F_reg = Symbol('F_reg', real=True)\n",
    "#---------\n",
    "v_max = Symbol('v_max', real=True)\n",
    "r_bas = Symbol('r_bas', real=True)\n",
    "v_maxp = Symbol('v_maxp', real=True)\n",
    "r_basp = Symbol('r_basp', real=True)\n",
    "r = Symbol('r', real=True)\n",
    "e = Symbol('e', real=True)\n",
    "K1 = Symbol('K1', real=True)\n",
    "K2 = Symbol('K2', real=True)\n",
    "k_cc = Symbol('k_cc', real=True)"
   ]
  },
  {
   "cell_type": "code",
   "execution_count": 7,
   "metadata": {},
   "outputs": [
    {
     "data": {
      "image/png": "[encoded data removed]",
      "text/latex": [
       "$$0$$"
      ],
      "text/plain": [
       "0"
      ]
     },
     "execution_count": 7,
     "metadata": {},
     "output_type": "execute_result"
    }
   ],
   "source": [
    "Ptc = k_cc*Gli\n",
    "limit(Ptc,Gli,0)"
   ]
  },
  {
   "cell_type": "code",
   "execution_count": null,
   "metadata": {},
   "outputs": [],
   "source": [
    "Signal = (1+(Shh/k_shh))/(1+(Shh/k_shh)+(Ptc/k_ptc))\n",
    "Gli3 = (r_g3b*(K_g3rc+Signal))/((k_deg*(K_g3rc+Signal)+k_g3rc)*Gli)\n",
    "Gli3R = (r_g3b)/(k_deg*Gli)-Gli3\n",
    "Basal = (3*c*K1*K2*(Gli3*K1+ Gli*K2 + Gli3R*K1*r)**2 + c**2*(Gli3*K1 + Gli*K2 + Gli3R*K1*r)**3 + K1**2*K2**2*(3*Gli3*K1 + 3*Gli*K2 + K1*(K2+ 3*Gli3R*r)))/ (3*c*K1*K2*(Gli3*K1 + Gli3R*K1 + Gli*K2)**2 + c**2*(Gli3*K1 + Gli3R*K1 + Gli*K2)**3 + K1**2*K2**2*(3*Gli3*K1 + 3*Gli3R*K1 + (3*Gli +K1)*K2))\n",
    "Promoter = ((Gli3*K1+Gli*K2)*(3*e**2*K1**2*K2**2+3*c*e*K1*K2*(Gli3*K1+Gli*K2+2*e*Gli3R*K1*r)+c**2*(Gli3**2*K1**2+Gli**2*K2**2+3*e*Gli*Gli3R*K1*K2*r + 3*e**2*Gli3R**2*K1**2*r**2 + Gli3*K1*(2*Gli*K2 + 3*e*Gli3R*K1*r))))/(3*c*K1*K2*(Gli3*K1 + Gli3R*K1 + Gli*K2)**2 + c**2*(Gli3*K1 + Gli3R*K1 + Gli*K2)**3 +K1**2*K2**2*(3*Gli3*K1 + 3*Gli3R*K1 + (3*Gli + K1)*K2))\n",
    "limit(Promoter,Gli,0)"
   ]
  },
  {
   "cell_type": "code",
   "execution_count": 14,
   "metadata": {},
   "outputs": [
    {
     "ename": "SyntaxError",
     "evalue": "can't assign to operator (<ipython-input-14-e8e957a72136>, line 1)",
     "output_type": "error",
     "traceback": [
      "\u001b[0;36m  File \u001b[0;32m\"<ipython-input-14-e8e957a72136>\"\u001b[0;36m, line \u001b[0;32m1\u001b[0m\n\u001b[0;31m    Gli3+Gli3R=r_g3b/(Gli*k_deg)\u001b[0m\n\u001b[0m                                ^\u001b[0m\n\u001b[0;31mSyntaxError\u001b[0m\u001b[0;31m:\u001b[0m can't assign to operator\n"
     ]
    }
   ],
   "source": [
    "Gli3+Gli3R=r_g3b/(Gli*k_deg)"
   ]
  },
  {
   "cell_type": "code",
   "execution_count": null,
   "metadata": {},
   "outputs": [],
   "source": []
  },
  {
   "cell_type": "code",
   "execution_count": 19,
   "metadata": {},
   "outputs": [
    {
     "data": {
      "image/png": "[encoded data removed]",
      "text/latex": [
       "$$- \\frac{1}{c} \\left(\\frac{Gli3R c}{K_{2}} e r + e\\right)^{3} + \\frac{1}{c} \\left(\\frac{Gli c}{K_{1}} + \\frac{Gli_{3} c}{K_{2}} + \\frac{Gli3R c}{K_{2}} e r + e\\right)^{3}$$"
      ],
      "text/plain": [
       "                   3                                     3\n",
       "  ⎛Gli3R⋅c⋅e⋅r    ⎞    ⎛Gli⋅c   Gli₃⋅c   Gli3R⋅c⋅e⋅r    ⎞ \n",
       "  ⎜─────────── + e⎟    ⎜───── + ────── + ─────────── + e⎟ \n",
       "  ⎝     K₂        ⎠    ⎝  K₁      K₂          K₂        ⎠ \n",
       "- ────────────────── + ───────────────────────────────────\n",
       "          c                             c                 "
      ]
     },
     "execution_count": 19,
     "metadata": {},
     "output_type": "execute_result"
    }
   ],
   "source": [
    "Promoter=(1/c*(e+c*Gli*K1**-1+c*Gli3*K2**-1+e*r*c*Gli3R*K2**-1)**3-1/c*(e+e*r*c*Gli3R*K2**-1)**3)/(1-1/c+1/c*(1+c*Gli*K1**-1+c*K2**-1*(Gli3+Gli3R))**3)\n",
    "Promoter.subs({Gli3 + Gli3R: r_g3b/(Gli*k_deg)}).simplify()\n",
    "Num_Promoter=(1/c*(e+c*Gli*K1**-1+c*Gli3*K2**-1+e*r*c*Gli3R*K2**-1)**3-1/c*(e+e*r*c*Gli3R*K2**-1)**3)\n",
    "Num_Promoter"
   ]
  },
  {
   "cell_type": "code",
   "execution_count": 20,
   "metadata": {},
   "outputs": [
    {
     "data": {
      "image/png": "[encoded data removed]",
      "text/latex": [
       "$$1 + \\frac{1}{c} \\left(\\frac{Gli c}{K_{1}} + \\frac{Gli_{3} c}{K_{2}} + \\frac{Gli3R c}{K_{2}} r + 1\\right)^{3} - \\frac{1}{c}$$"
      ],
      "text/plain": [
       "                                    3    \n",
       "    ⎛Gli⋅c   Gli₃⋅c   Gli3R⋅c⋅r    ⎞     \n",
       "    ⎜───── + ────── + ───────── + 1⎟     \n",
       "    ⎝  K₁      K₂         K₂       ⎠    1\n",
       "1 + ───────────────────────────────── - ─\n",
       "                    c                   c"
      ]
     },
     "execution_count": 20,
     "metadata": {},
     "output_type": "execute_result"
    }
   ],
   "source": [
    "Basal=(1-1/c+1/c*(1+c*Gli*K1**-1+c*Gli3*K2**-1+r*c*Gli3R*K2**-1)**3)/(1-1/c+1/c*(1+c*Gli*K1**-1+c*Gli3*K2**-1+c*Gli3R*K2**-1)**3)\n",
    "Basal.subs({Gli3 + Gli3R: r_g3b/(Gli*k_deg)}).simplify()\n",
    "Num_Basal=(1-1/c+1/c*(1+c*Gli*K1**-1+c*Gli3*K2**-1+r*c*Gli3R*K2**-1)**3)\n",
    "Num_Basal"
   ]
  },
  {
   "cell_type": "code",
   "execution_count": 35,
   "metadata": {},
   "outputs": [
    {
     "data": {
      "image/png": "[encoded data removed]",
      "text/latex": [
       "$$\\frac{1.01 Gli^{3}}{K_{1}^{3}} c^{2} + \\frac{3.03 Gli^{2} Gli_{3} c^{2}}{K_{1}^{2} K_{2}} + \\frac{3 Gli3R e r}{K_{1}^{2} K_{2}} Gli^{2} c^{2} + \\frac{0.03 Gli^{2} Gli3R r}{K_{1}^{2} K_{2}} c^{2} + \\frac{3 c}{K_{1}^{2}} Gli^{2} e + \\frac{0.03 c}{K_{1}^{2}} Gli^{2} + \\frac{3.03 Gli Gli_{3}^{2} c^{2}}{K_{1} K_{2}^{2}} + \\frac{6 Gli Gli_{3} Gli3R}{K_{1} K_{2}^{2}} c^{2} e r + \\frac{0.06 Gli Gli_{3} Gli3R}{K_{1} K_{2}^{2}} c^{2} r + \\frac{6 Gli Gli_{3} c}{K_{1} K_{2}} e + \\frac{0.06 Gli Gli_{3} c}{K_{1} K_{2}} + \\frac{3 Gli Gli3R^{2} c^{2}}{K_{1} K_{2}^{2}} e^{2} r^{2} + \\frac{0.03 Gli Gli3R^{2} c^{2}}{K_{1} K_{2}^{2}} r^{2} + \\frac{6 Gli Gli3R c}{K_{1} K_{2}} e^{2} r + \\frac{0.06 Gli Gli3R c}{K_{1} K_{2}} r + \\frac{3 Gli}{K_{1}} e^{2} + \\frac{0.03 Gli}{K_{1}} + \\frac{1.01 Gli_{3}^{3}}{K_{2}^{3}} c^{2} + \\frac{3 Gli3R}{K_{2}^{3}} Gli_{3}^{2} c^{2} e r + \\frac{0.03 Gli3R}{K_{2}^{3}} Gli_{3}^{2} c^{2} r + \\frac{3 c}{K_{2}^{2}} Gli_{3}^{2} e + \\frac{0.03 c}{K_{2}^{2}} Gli_{3}^{2} + \\frac{3 Gli_{3}}{K_{2}^{3}} Gli3R^{2} c^{2} e^{2} r^{2} + \\frac{0.03 Gli_{3}}{K_{2}^{3}} Gli3R^{2} c^{2} r^{2} + \\frac{6 Gli_{3}}{K_{2}^{2}} Gli3R c e^{2} r + \\frac{0.06 Gli_{3}}{K_{2}^{2}} Gli3R c r + \\frac{3 Gli_{3}}{K_{2}} e^{2} + \\frac{0.03 Gli_{3}}{K_{2}} + \\frac{0.01 Gli3R^{3}}{K_{2}^{3}} c^{2} r^{3} + \\frac{0.03 c}{K_{2}^{2}} Gli3R^{2} r^{2} + \\frac{0.03 Gli3R}{K_{2}} r + 0.01$$"
      ],
      "text/plain": [
       "        3  2           2       2        2        2               2        2   \n",
       "1.01⋅Gli ⋅c    3.03⋅Gli ⋅Gli₃⋅c    3⋅Gli ⋅Gli3R⋅c ⋅e⋅r   0.03⋅Gli ⋅Gli3R⋅c ⋅r \n",
       "──────────── + ───────────────── + ─────────────────── + ──────────────────── \n",
       "      3                2                    2                     2           \n",
       "    K₁               K₁ ⋅K₂               K₁ ⋅K₂                K₁ ⋅K₂        \n",
       "\n",
       "       2               2                  2  2                     2          \n",
       "  3⋅Gli ⋅c⋅e   0.03⋅Gli ⋅c   3.03⋅Gli⋅Gli₃ ⋅c    6⋅Gli⋅Gli₃⋅Gli3R⋅c ⋅e⋅r   0.0\n",
       "+ ────────── + ─────────── + ───────────────── + ─────────────────────── + ───\n",
       "       2             2                  2                      2              \n",
       "     K₁            K₁              K₁⋅K₂                  K₁⋅K₂               \n",
       "\n",
       "                  2                                                   2  2  2 \n",
       "6⋅Gli⋅Gli₃⋅Gli3R⋅c ⋅r   6⋅Gli⋅Gli₃⋅c⋅e   0.06⋅Gli⋅Gli₃⋅c   3⋅Gli⋅Gli3R ⋅c ⋅e ⋅\n",
       "───────────────────── + ────────────── + ─────────────── + ───────────────────\n",
       "           2                K₁⋅K₂             K₁⋅K₂                     2     \n",
       "      K₁⋅K₂                                                        K₁⋅K₂      \n",
       "\n",
       " 2                 2  2  2                  2                                 \n",
       "r    0.03⋅Gli⋅Gli3R ⋅c ⋅r    6⋅Gli⋅Gli3R⋅c⋅e ⋅r   0.06⋅Gli⋅Gli3R⋅c⋅r   3⋅Gli⋅e\n",
       "── + ───────────────────── + ────────────────── + ────────────────── + ───────\n",
       "                  2                K₁⋅K₂                K₁⋅K₂             K₁  \n",
       "             K₁⋅K₂                                                            \n",
       "\n",
       "2                       3  2         2        2                2        2     \n",
       "    0.03⋅Gli   1.01⋅Gli₃ ⋅c    3⋅Gli₃ ⋅Gli3R⋅c ⋅e⋅r   0.03⋅Gli₃ ⋅Gli3R⋅c ⋅r   \n",
       "─ + ──────── + ───────────── + ──────────────────── + ───────────────────── + \n",
       "       K₁             3                  3                       3            \n",
       "                    K₂                 K₂                      K₂             \n",
       "\n",
       "      2                2                 2  2  2  2                  2  2  2  \n",
       "3⋅Gli₃ ⋅c⋅e   0.03⋅Gli₃ ⋅c   3⋅Gli₃⋅Gli3R ⋅c ⋅e ⋅r    0.03⋅Gli₃⋅Gli3R ⋅c ⋅r   \n",
       "─────────── + ──────────── + ────────────────────── + ────────────────────── +\n",
       "      2             2                   3                        3            \n",
       "    K₂            K₂                  K₂                       K₂             \n",
       "\n",
       "                 2                                   2                        \n",
       " 6⋅Gli₃⋅Gli3R⋅c⋅e ⋅r   0.06⋅Gli₃⋅Gli3R⋅c⋅r   3⋅Gli₃⋅e    0.03⋅Gli₃   0.01⋅Gli3\n",
       " ─────────────────── + ─────────────────── + ───────── + ───────── + ─────────\n",
       "           2                     2               K₂          K₂               \n",
       "         K₂                    K₂                                           K₂\n",
       "\n",
       " 3  2  3             2    2                      \n",
       "R ⋅c ⋅r    0.03⋅Gli3R ⋅c⋅r    0.03⋅Gli3R⋅r       \n",
       "──────── + ──────────────── + ──────────── + 0.01\n",
       "3                  2               K₂            \n",
       "                 K₂                              "
      ]
     },
     "execution_count": 35,
     "metadata": {},
     "output_type": "execute_result"
    }
   ],
   "source": [
    "right_side=Num_Promoter+0.01*Num_Basal\n",
    "right_side=right_side.subs({Gli3 + Gli3R: r_g3b/(Gli*k_deg)}).simplify()\n",
    "expand(right_side)"
   ]
  },
  {
   "cell_type": "code",
   "execution_count": 27,
   "metadata": {},
   "outputs": [],
   "source": [
    "left_side=((k_deg*Gli)/(v_max))*(1-1/c+1/c*(1+c*Gli*K1**-1+c*K2**-1*(Gli3+Gli3R))**3)\n",
    "left_side=left_side.subs({Gli3 + Gli3R: r_g3b/(Gli*k_deg)}).simplify()"
   ]
  },
  {
   "cell_type": "code",
   "execution_count": 34,
   "metadata": {},
   "outputs": [
    {
     "data": {
      "image/png": "[encoded data removed]",
      "text/latex": [
       "$$\\frac{Gli^{4} c^{2} k_{deg}}{K_{1}^{3} v_{max}} + \\frac{3 Gli^{3} c k_{deg}}{K_{1}^{2} v_{max}} + \\frac{3 Gli^{2} k_{deg}}{K_{1} v_{max}} + \\frac{3 Gli^{2} c^{2} r_{g3b}}{K_{1}^{2} K_{2} v_{max}} + \\frac{Gli k_{deg}}{v_{max}} + \\frac{6 Gli c r_{g3b}}{K_{1} K_{2} v_{max}} + \\frac{3 r_{g3b}}{K_{2} v_{max}} + \\frac{3 c^{2} r_{g3b}^{2}}{K_{1} K_{2}^{2} k_{deg} v_{max}} + \\frac{3 c r_{g3b}^{2}}{Gli K_{2}^{2} k_{deg} v_{max}} + \\frac{c^{2} r_{g3b}^{3}}{Gli^{2} K_{2}^{3} k_{deg}^{2} v_{max}}$$"
      ],
      "text/plain": [
       "   4  2              3                2              2  2                     \n",
       "Gli ⋅c ⋅k_deg   3⋅Gli ⋅c⋅k_deg   3⋅Gli ⋅k_deg   3⋅Gli ⋅c ⋅r_g3b   Gli⋅k_deg   \n",
       "───────────── + ────────────── + ──────────── + ─────────────── + ───────── + \n",
       "     3               2             K₁⋅vₘₐₓ          2                vₘₐₓ     \n",
       "   K₁ ⋅vₘₐₓ        K₁ ⋅vₘₐₓ                       K₁ ⋅K₂⋅vₘₐₓ                 \n",
       "\n",
       "                                2      2                   2             2    \n",
       "6⋅Gli⋅c⋅r_g3b   3⋅r_g3b      3⋅c ⋅r_g3b           3⋅c⋅r_g3b             c ⋅r_g\n",
       "───────────── + ─────── + ───────────────── + ────────────────── + ───────────\n",
       "  K₁⋅K₂⋅vₘₐₓ    K₂⋅vₘₐₓ        2                    2                 2   3   \n",
       "                          K₁⋅K₂ ⋅k_deg⋅vₘₐₓ   Gli⋅K₂ ⋅k_deg⋅vₘₐₓ   Gli ⋅K₂ ⋅k_\n",
       "\n",
       "  3      \n",
       "3b       \n",
       "─────────\n",
       "   2     \n",
       "deg ⋅vₘₐₓ"
      ]
     },
     "execution_count": 34,
     "metadata": {},
     "output_type": "execute_result"
    }
   ],
   "source": [
    "expand(left_side)"
   ]
  },
  {
   "cell_type": "code",
   "execution_count": 36,
   "metadata": {},
   "outputs": [],
   "source": [
    "result=expand(right_side)-expand(left_side)"
   ]
  },
  {
   "cell_type": "code",
   "execution_count": null,
   "metadata": {},
   "outputs": [],
   "source": [
    "result=result.subs({ Gli3R: r_g3b/(Gli*k_deg)-Gli3})\n",
    "result=result.subs({ Gli3:(1+(Shh/k_shh))/(1+(Shh/k_shh)+(Ptc/k_Ptc))})\n",
    "result=expand(result).simplify()\n",
    "result.collect(Gli)"
   ]
  },
  {
   "cell_type": "code",
   "execution_count": null,
   "metadata": {},
   "outputs": [],
   "source": []
  }
 ],
 "metadata": {
  "kernelspec": {
   "display_name": "Python 3",
   "language": "python",
   "name": "python3"
  },
  "language_info": {
   "codemirror_mode": {
    "name": "ipython",
    "version": 3
   },
   "file_extension": ".py",
   "mimetype": "text/x-python",
   "name": "python",
   "nbconvert_exporter": "python",
   "pygments_lexer": "ipython3",
   "version": "3.6.4"
  }
 },
 "nbformat": 4,
 "nbformat_minor": 2
}
